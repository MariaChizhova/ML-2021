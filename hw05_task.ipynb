{
  "nbformat": 4,
  "nbformat_minor": 0,
  "metadata": {
    "colab": {
      "name": "hw05_task.ipynb",
      "provenance": [],
      "collapsed_sections": []
    },
    "kernelspec": {
      "display_name": "Python 3",
      "language": "python",
      "name": "python3"
    },
    "language_info": {
      "codemirror_mode": {
        "name": "ipython",
        "version": 3
      },
      "file_extension": ".py",
      "mimetype": "text/x-python",
      "name": "python",
      "nbconvert_exporter": "python",
      "pygments_lexer": "ipython3",
      "version": "3.8.10"
    },
    "widgets": {
      "application/vnd.jupyter.widget-state+json": {
        "16feafa46ae04bc8914b157396e4d3d2": {
          "model_module": "@jupyter-widgets/controls",
          "model_name": "HBoxModel",
          "model_module_version": "1.5.0",
          "state": {
            "_view_name": "HBoxView",
            "_dom_classes": [],
            "_model_name": "HBoxModel",
            "_view_module": "@jupyter-widgets/controls",
            "_model_module_version": "1.5.0",
            "_view_count": null,
            "_view_module_version": "1.5.0",
            "box_style": "",
            "layout": "IPY_MODEL_d0c4187f07994c30a8bc8ce3cbe18906",
            "_model_module": "@jupyter-widgets/controls",
            "children": [
              "IPY_MODEL_8437ce44131f4265ad620ec7f3753b04",
              "IPY_MODEL_37f7f65d4d1a4ee8af013ed8b3e2d775",
              "IPY_MODEL_442d76de5fc949e684379b2fe9aa31ef"
            ]
          }
        },
        "d0c4187f07994c30a8bc8ce3cbe18906": {
          "model_module": "@jupyter-widgets/base",
          "model_name": "LayoutModel",
          "model_module_version": "1.2.0",
          "state": {
            "_view_name": "LayoutView",
            "grid_template_rows": null,
            "right": null,
            "justify_content": null,
            "_view_module": "@jupyter-widgets/base",
            "overflow": null,
            "_model_module_version": "1.2.0",
            "_view_count": null,
            "flex_flow": null,
            "width": null,
            "min_width": null,
            "border": null,
            "align_items": null,
            "bottom": null,
            "_model_module": "@jupyter-widgets/base",
            "top": null,
            "grid_column": null,
            "overflow_y": null,
            "overflow_x": null,
            "grid_auto_flow": null,
            "grid_area": null,
            "grid_template_columns": null,
            "flex": null,
            "_model_name": "LayoutModel",
            "justify_items": null,
            "grid_row": null,
            "max_height": null,
            "align_content": null,
            "visibility": null,
            "align_self": null,
            "height": null,
            "min_height": null,
            "padding": null,
            "grid_auto_rows": null,
            "grid_gap": null,
            "max_width": null,
            "order": null,
            "_view_module_version": "1.2.0",
            "grid_template_areas": null,
            "object_position": null,
            "object_fit": null,
            "grid_auto_columns": null,
            "margin": null,
            "display": null,
            "left": null
          }
        },
        "8437ce44131f4265ad620ec7f3753b04": {
          "model_module": "@jupyter-widgets/controls",
          "model_name": "HTMLModel",
          "model_module_version": "1.5.0",
          "state": {
            "_view_name": "HTMLView",
            "style": "IPY_MODEL_947678ebba9b4ae99cc9ac4672b3b28a",
            "_dom_classes": [],
            "description": "",
            "_model_name": "HTMLModel",
            "placeholder": "​",
            "_view_module": "@jupyter-widgets/controls",
            "_model_module_version": "1.5.0",
            "value": "",
            "_view_count": null,
            "_view_module_version": "1.5.0",
            "description_tooltip": null,
            "_model_module": "@jupyter-widgets/controls",
            "layout": "IPY_MODEL_a06a51af78774b2293718b6d94d15e31"
          }
        },
        "37f7f65d4d1a4ee8af013ed8b3e2d775": {
          "model_module": "@jupyter-widgets/controls",
          "model_name": "FloatProgressModel",
          "model_module_version": "1.5.0",
          "state": {
            "_view_name": "ProgressView",
            "style": "IPY_MODEL_6af755d4f8f74d1495ea46c54bd5f9fa",
            "_dom_classes": [],
            "description": "",
            "_model_name": "FloatProgressModel",
            "bar_style": "success",
            "max": 170498071,
            "_view_module": "@jupyter-widgets/controls",
            "_model_module_version": "1.5.0",
            "value": 170498071,
            "_view_count": null,
            "_view_module_version": "1.5.0",
            "orientation": "horizontal",
            "min": 0,
            "description_tooltip": null,
            "_model_module": "@jupyter-widgets/controls",
            "layout": "IPY_MODEL_7aa59ddbd0e8451fae5f50a37452093f"
          }
        },
        "442d76de5fc949e684379b2fe9aa31ef": {
          "model_module": "@jupyter-widgets/controls",
          "model_name": "HTMLModel",
          "model_module_version": "1.5.0",
          "state": {
            "_view_name": "HTMLView",
            "style": "IPY_MODEL_ab9935550b7848ed8a959d87e3a9baa6",
            "_dom_classes": [],
            "description": "",
            "_model_name": "HTMLModel",
            "placeholder": "​",
            "_view_module": "@jupyter-widgets/controls",
            "_model_module_version": "1.5.0",
            "value": " 170499072/? [00:03&lt;00:00, 49402515.13it/s]",
            "_view_count": null,
            "_view_module_version": "1.5.0",
            "description_tooltip": null,
            "_model_module": "@jupyter-widgets/controls",
            "layout": "IPY_MODEL_bdb479f71484407590bf54cca593abd6"
          }
        },
        "947678ebba9b4ae99cc9ac4672b3b28a": {
          "model_module": "@jupyter-widgets/controls",
          "model_name": "DescriptionStyleModel",
          "model_module_version": "1.5.0",
          "state": {
            "_view_name": "StyleView",
            "_model_name": "DescriptionStyleModel",
            "description_width": "",
            "_view_module": "@jupyter-widgets/base",
            "_model_module_version": "1.5.0",
            "_view_count": null,
            "_view_module_version": "1.2.0",
            "_model_module": "@jupyter-widgets/controls"
          }
        },
        "a06a51af78774b2293718b6d94d15e31": {
          "model_module": "@jupyter-widgets/base",
          "model_name": "LayoutModel",
          "model_module_version": "1.2.0",
          "state": {
            "_view_name": "LayoutView",
            "grid_template_rows": null,
            "right": null,
            "justify_content": null,
            "_view_module": "@jupyter-widgets/base",
            "overflow": null,
            "_model_module_version": "1.2.0",
            "_view_count": null,
            "flex_flow": null,
            "width": null,
            "min_width": null,
            "border": null,
            "align_items": null,
            "bottom": null,
            "_model_module": "@jupyter-widgets/base",
            "top": null,
            "grid_column": null,
            "overflow_y": null,
            "overflow_x": null,
            "grid_auto_flow": null,
            "grid_area": null,
            "grid_template_columns": null,
            "flex": null,
            "_model_name": "LayoutModel",
            "justify_items": null,
            "grid_row": null,
            "max_height": null,
            "align_content": null,
            "visibility": null,
            "align_self": null,
            "height": null,
            "min_height": null,
            "padding": null,
            "grid_auto_rows": null,
            "grid_gap": null,
            "max_width": null,
            "order": null,
            "_view_module_version": "1.2.0",
            "grid_template_areas": null,
            "object_position": null,
            "object_fit": null,
            "grid_auto_columns": null,
            "margin": null,
            "display": null,
            "left": null
          }
        },
        "6af755d4f8f74d1495ea46c54bd5f9fa": {
          "model_module": "@jupyter-widgets/controls",
          "model_name": "ProgressStyleModel",
          "model_module_version": "1.5.0",
          "state": {
            "_view_name": "StyleView",
            "_model_name": "ProgressStyleModel",
            "description_width": "",
            "_view_module": "@jupyter-widgets/base",
            "_model_module_version": "1.5.0",
            "_view_count": null,
            "_view_module_version": "1.2.0",
            "bar_color": null,
            "_model_module": "@jupyter-widgets/controls"
          }
        },
        "7aa59ddbd0e8451fae5f50a37452093f": {
          "model_module": "@jupyter-widgets/base",
          "model_name": "LayoutModel",
          "model_module_version": "1.2.0",
          "state": {
            "_view_name": "LayoutView",
            "grid_template_rows": null,
            "right": null,
            "justify_content": null,
            "_view_module": "@jupyter-widgets/base",
            "overflow": null,
            "_model_module_version": "1.2.0",
            "_view_count": null,
            "flex_flow": null,
            "width": null,
            "min_width": null,
            "border": null,
            "align_items": null,
            "bottom": null,
            "_model_module": "@jupyter-widgets/base",
            "top": null,
            "grid_column": null,
            "overflow_y": null,
            "overflow_x": null,
            "grid_auto_flow": null,
            "grid_area": null,
            "grid_template_columns": null,
            "flex": null,
            "_model_name": "LayoutModel",
            "justify_items": null,
            "grid_row": null,
            "max_height": null,
            "align_content": null,
            "visibility": null,
            "align_self": null,
            "height": null,
            "min_height": null,
            "padding": null,
            "grid_auto_rows": null,
            "grid_gap": null,
            "max_width": null,
            "order": null,
            "_view_module_version": "1.2.0",
            "grid_template_areas": null,
            "object_position": null,
            "object_fit": null,
            "grid_auto_columns": null,
            "margin": null,
            "display": null,
            "left": null
          }
        },
        "ab9935550b7848ed8a959d87e3a9baa6": {
          "model_module": "@jupyter-widgets/controls",
          "model_name": "DescriptionStyleModel",
          "model_module_version": "1.5.0",
          "state": {
            "_view_name": "StyleView",
            "_model_name": "DescriptionStyleModel",
            "description_width": "",
            "_view_module": "@jupyter-widgets/base",
            "_model_module_version": "1.5.0",
            "_view_count": null,
            "_view_module_version": "1.2.0",
            "_model_module": "@jupyter-widgets/controls"
          }
        },
        "bdb479f71484407590bf54cca593abd6": {
          "model_module": "@jupyter-widgets/base",
          "model_name": "LayoutModel",
          "model_module_version": "1.2.0",
          "state": {
            "_view_name": "LayoutView",
            "grid_template_rows": null,
            "right": null,
            "justify_content": null,
            "_view_module": "@jupyter-widgets/base",
            "overflow": null,
            "_model_module_version": "1.2.0",
            "_view_count": null,
            "flex_flow": null,
            "width": null,
            "min_width": null,
            "border": null,
            "align_items": null,
            "bottom": null,
            "_model_module": "@jupyter-widgets/base",
            "top": null,
            "grid_column": null,
            "overflow_y": null,
            "overflow_x": null,
            "grid_auto_flow": null,
            "grid_area": null,
            "grid_template_columns": null,
            "flex": null,
            "_model_name": "LayoutModel",
            "justify_items": null,
            "grid_row": null,
            "max_height": null,
            "align_content": null,
            "visibility": null,
            "align_self": null,
            "height": null,
            "min_height": null,
            "padding": null,
            "grid_auto_rows": null,
            "grid_gap": null,
            "max_width": null,
            "order": null,
            "_view_module_version": "1.2.0",
            "grid_template_areas": null,
            "object_position": null,
            "object_fit": null,
            "grid_auto_columns": null,
            "margin": null,
            "display": null,
            "left": null
          }
        }
      }
    }
  },
  "cells": [
    {
      "cell_type": "markdown",
      "metadata": {
        "id": "9Qp0H_zUQuu_"
      },
      "source": [
        "# Нейронные сети\n",
        "__Суммарное количество баллов: 10__\n",
        "\n",
        "__Решение отправлять на `ml.course.practice@gmail.com`__\n",
        "\n",
        "__Тема письма: `[HSE][ML][HW05] <ФИ>`, где вместо `<ФИ>` указаны фамилия и имя__\n",
        "\n",
        "Для начала вам предстоит реализовать свой собственный backpropagation и протестировать его на реальных данных, а затем научиться обучать нейронные сети при помощи библиотеки `PyTorch` и использовать это умение для классификации классического набора данных CIFAR10."
      ]
    },
    {
      "cell_type": "code",
      "metadata": {
        "id": "22ezVRf3QuvA"
      },
      "source": [
        "import numpy as np\n",
        "import copy\n",
        "from sklearn.datasets import make_blobs, make_moons\n",
        "from typing import List, NoReturn"
      ],
      "execution_count": 1,
      "outputs": []
    },
    {
      "cell_type": "markdown",
      "metadata": {
        "id": "4qfDPH_LQuvF"
      },
      "source": [
        "### Задание 1 (3 балла)\n",
        "Нейронные сети состоят из слоев, поэтому для начала понадобится реализовать их. Пока нам понадобятся только три:\n",
        "\n",
        "`Linear` - полносвязный слой, в котором `y = Wx + b`, где `y` - выход, `x` - вход, `W` - матрица весов, а `b` - смещение. \n",
        "\n",
        "`ReLU` - слой, соответствующий функции активации `y = max(0, x)`.\n",
        "\n",
        "`Softmax` - слой, соответствующий функции активации [softmax](https://ru.wikipedia.org/wiki/Softmax)\n",
        "\n",
        "\n",
        "#### Методы\n",
        "`forward(X)` - возвращает предсказанные для `X`. `X` может быть как вектором, так и батчем\n",
        "\n",
        "`backward(d)` - считает градиент при помощи обратного распространения ошибки. Возвращает новое значение `d`\n",
        "\n",
        "`update(alpha)` - обновляет веса (если необходимо) с заданой скоростью обучения"
      ]
    },
    {
      "cell_type": "code",
      "metadata": {
        "id": "RWFLlHqaYbgC"
      },
      "source": [
        "class Module:\n",
        "    \"\"\"\n",
        "    Абстрактный класс. Его менять не нужно.\n",
        "    \"\"\"\n",
        "    def forward(self, x):\n",
        "        raise NotImplementedError()\n",
        "    \n",
        "    def backward(self, d):\n",
        "        raise NotImplementedError()\n",
        "        \n",
        "    def update(self, alpha):\n",
        "        pass"
      ],
      "execution_count": 2,
      "outputs": []
    },
    {
      "cell_type": "code",
      "metadata": {
        "id": "aYS2gE4PYepZ"
      },
      "source": [
        "class Linear(Module):\n",
        "    \"\"\"\n",
        "    Линейный полносвязный слой.\n",
        "    \"\"\"\n",
        "    def __init__(self, in_features: int, out_features: int):\n",
        "        \"\"\"\n",
        "        Parameters\n",
        "        ----------\n",
        "        in_features : int\n",
        "            Размер входа.\n",
        "        out_features : int \n",
        "            Размер выхода.\n",
        "    \n",
        "        Notes\n",
        "        -----\n",
        "        W и b инициализируются случайно.\n",
        "        \"\"\"\n",
        "        self.in_features = in_features\n",
        "        self.out_features = out_features\n",
        "        self.W = np.random.randn(in_features, out_features)\n",
        "        self.b = np.random.randn(self.out_features)\n",
        "        self.W_grad = None\n",
        "        self.b_grad = None\n",
        "        \n",
        "    def forward(self, x: np.ndarray) -> np.ndarray:\n",
        "        \"\"\"\n",
        "        Возвращает y = Wx + b.\n",
        "\n",
        "        Parameters\n",
        "        ----------\n",
        "        x : np.ndarray\n",
        "            Входной вектор или батч.\n",
        "            То есть, либо x вектор с in_features элементов,\n",
        "            либо матрица размерности (batch_size, in_features).\n",
        "    \n",
        "        Return\n",
        "        ------\n",
        "        y : np.ndarray\n",
        "            Выход после слоя.\n",
        "            Либо вектор с out_features элементами,\n",
        "            либо матрица размерности (batch_size, out_features)\n",
        "\n",
        "        \"\"\"\n",
        "        self.X = x\n",
        "        z = np.dot(x, self.W) + self.b\n",
        "        return z\n",
        "    \n",
        "    def backward(self, d: np.ndarray) -> np.ndarray:\n",
        "        \"\"\"\n",
        "        Cчитает градиент при помощи обратного распространения ошибки.\n",
        "\n",
        "        Parameters\n",
        "        ----------\n",
        "        d : np.ndarray\n",
        "            Градиент.\n",
        "        Return\n",
        "        ------\n",
        "        np.ndarray\n",
        "            Новое значение градиента.\n",
        "        \"\"\"\n",
        "        self.W_grad = np.dot(self.X.T, d)\n",
        "        self.b_grad = np.sum(d, axis = 0)\n",
        "        return np.dot(d, self.W.T)\n",
        "        \n",
        "    def update(self, alpha: float) -> NoReturn:\n",
        "        \"\"\"\n",
        "        Обновляет W и b с заданной скоростью обучения.\n",
        "\n",
        "        Parameters\n",
        "        ----------\n",
        "        alpha : float\n",
        "            Скорость обучения.\n",
        "        \"\"\"\n",
        "        self.W -= alpha * self.W_grad\n",
        "        self.b -= alpha * self.b_grad"
      ],
      "execution_count": 3,
      "outputs": []
    },
    {
      "cell_type": "code",
      "metadata": {
        "id": "94hkbnD1QuvG"
      },
      "source": [
        "class ReLU(Module):\n",
        "    \"\"\"\n",
        "    Слой, соответствующий функции активации ReLU.\n",
        "    \"\"\"\n",
        "    def __init__(self):\n",
        "        pass\n",
        "    \n",
        "    def forward(self, x: np.ndarray) -> np.ndarray:\n",
        "        \"\"\"\n",
        "        Возвращает y = max(0, x).\n",
        "\n",
        "        Parameters\n",
        "        ----------\n",
        "        x : np.ndarray\n",
        "            Входной вектор или батч.\n",
        "    \n",
        "        Return\n",
        "        ------\n",
        "        y : np.ndarray\n",
        "            Выход после слоя (той же размерности, что и вход).\n",
        "\n",
        "        \"\"\"\n",
        "        self.X = x\n",
        "        return np.maximum(0, self.X)\n",
        "        \n",
        "    def backward(self, d) -> np.ndarray:\n",
        "        \"\"\"\n",
        "        Cчитает градиент при помощи обратного распространения ошибки.\n",
        "\n",
        "        Parameters\n",
        "        ----------\n",
        "        d : np.ndarray\n",
        "            Градиент.\n",
        "        Return\n",
        "        ------\n",
        "        np.ndarray\n",
        "            Новое значение градиента.\n",
        "        \"\"\"\n",
        "        return d * (self.X > 0)\n",
        "        \n",
        "        \n",
        "class Softmax(Module):\n",
        "    \"\"\"\n",
        "    Слой, соответствующий функции активации Softmax.\n",
        "    \"\"\"\n",
        "    def __init__(self):\n",
        "        pass\n",
        "        \n",
        "    def forward(self, x: np.ndarray) -> np.ndarray:\n",
        "        \"\"\"\n",
        "        Возвращает y = Softmax(x).\n",
        "\n",
        "        Parameters\n",
        "        ----------\n",
        "        x : np.ndarray\n",
        "            Входной вектор или батч.\n",
        "    \n",
        "        Return\n",
        "        ------\n",
        "        y : np.ndarray\n",
        "            Выход после слоя (той же размерности, что и вход).\n",
        "\n",
        "        \"\"\"\n",
        "        x_norm = x - np.max(x, axis=1, keepdims=True)\n",
        "        exp = np.exp(x_norm)\n",
        "        self.prob = exp / np.sum(exp, axis=1, keepdims=True)\n",
        "        return self.prob\n",
        "        \n",
        "    def backward(self, d) -> np.ndarray:\n",
        "        \"\"\"\n",
        "        Cчитает градиент при помощи обратного распространения ошибки.\n",
        "\n",
        "        Parameters\n",
        "        ----------\n",
        "        d : np.ndarray\n",
        "            Градиент.\n",
        "        Return\n",
        "        ------\n",
        "        np.ndarray\n",
        "            Новое значение градиента.\n",
        "        \"\"\"\n",
        "        return self.prob - d"
      ],
      "execution_count": 4,
      "outputs": []
    },
    {
      "cell_type": "markdown",
      "metadata": {
        "id": "Rb_ip_h8QuvJ"
      },
      "source": [
        "### Задание 2 (2 балла)\n",
        "Теперь сделаем саму нейронную сеть.\n",
        "\n",
        "#### Методы\n",
        "`fit(X, y)` - обучает нейронную сеть заданное число эпох. В каждой эпохе необходимо использовать [cross-entropy loss](https://ml-cheatsheet.readthedocs.io/en/latest/loss_functions.html#cross-entropy) для обучения, а так же производить обновления не по одному элементу, а используя батчи.\n",
        "\n",
        "`predict_proba(X)` - предсказывает вероятности классов для элементов `X`\n",
        "\n",
        "#### Параметры конструктора\n",
        "`modules` - список, состоящий из ранее реализованных модулей и описывающий слои нейронной сети. В конец необходимо добавить `Softmax`\n",
        "\n",
        "`epochs` - количество эпох обучения\n",
        "\n",
        "`alpha` - скорость обучения"
      ]
    },
    {
      "cell_type": "code",
      "metadata": {
        "id": "Q_JFCizKQuvK"
      },
      "source": [
        "class MLPClassifier:\n",
        "    def __init__(self, modules: List[Module], epochs: int = 40, alpha: float = 0.01):\n",
        "        \"\"\"\n",
        "        Parameters\n",
        "        ----------\n",
        "        modules : List[Module]\n",
        "            Cписок, состоящий из ранее реализованных модулей и \n",
        "            описывающий слои нейронной сети. \n",
        "            В конец необходимо добавить Softmax.\n",
        "        epochs : int\n",
        "            Количество эпох обученияю\n",
        "        alpha : float\n",
        "            Cкорость обучения.\n",
        "        \"\"\"\n",
        "        self.modules = modules\n",
        "        self.modules.append(Softmax())\n",
        "        self.epochs = epochs\n",
        "        self.alpha = alpha\n",
        "    \n",
        "    def fit(self, X: np.ndarray, y: np.ndarray, batch_size=32) -> NoReturn:\n",
        "        \"\"\"\n",
        "        Обучает нейронную сеть заданное число эпох. \n",
        "        В каждой эпохе необходимо использовать cross-entropy loss для обучения, \n",
        "        а так же производить обновления не по одному элементу, а используя батчи.\n",
        "\n",
        "        Parameters\n",
        "        ----------\n",
        "        X : np.ndarray\n",
        "            Данные для обучения.\n",
        "        y : np.ndarray\n",
        "            Вектор меток классов для данных.\n",
        "        batch_size : int\n",
        "            Размер батча.\n",
        "        \"\"\"\n",
        "        \n",
        "        batches = int(np.ceil(X.shape[0] / batch_size))\n",
        "        Y = np.zeros((X.shape[0], np.unique(y).shape[0]))\n",
        "        Y[np.arange(X.shape[0]), y] = 1\n",
        "    \n",
        "        for epoch in range(self.epochs):\n",
        "            for index in range(batches):\n",
        "                s = copy.deepcopy(X[index * batch_size:index * batch_size + batch_size])\n",
        "                grad = copy.deepcopy(Y[index * batch_size:index * batch_size + batch_size])\n",
        "                for layer in self.modules:\n",
        "                    s = layer.forward(s)\n",
        "                #grad = - np.sum(grad * np.ma.log(s).filled(0), axis=1, keepdims=True)\n",
        "                self.modules.reverse()\n",
        "                for layer in self.modules:\n",
        "                    grad = layer.backward(grad)\n",
        "                self.modules.reverse()\n",
        "                for layer in self.modules:\n",
        "                    layer.update(self.alpha)\n",
        "                \n",
        "        \n",
        "    def predict_proba(self, X: np.ndarray) -> np.ndarray:\n",
        "        \"\"\"\n",
        "        Предсказывает вероятности классов для элементов X.\n",
        "\n",
        "        Parameters\n",
        "        ----------\n",
        "        X : np.ndarray\n",
        "            Данные для предсказания.\n",
        "        \n",
        "        Return\n",
        "        ------\n",
        "        np.ndarray\n",
        "            Предсказанные вероятности классов для всех элементов X.\n",
        "            Размерность (X.shape[0], n_classes)\n",
        "        \n",
        "        \"\"\"\n",
        "        s = X.copy()\n",
        "        for layer in self.modules:\n",
        "            s = layer.forward(s)\n",
        "        return s\n",
        "        \n",
        "    def predict(self, X) -> np.ndarray:\n",
        "        \"\"\"\n",
        "        Предсказывает метки классов для элементов X.\n",
        "\n",
        "        Parameters\n",
        "        ----------\n",
        "        X : np.ndarray\n",
        "            Данные для предсказания.\n",
        "        \n",
        "        Return\n",
        "        ------\n",
        "        np.ndarray\n",
        "            Вектор предсказанных классов\n",
        "        \n",
        "        \"\"\"\n",
        "        p = self.predict_proba(X)\n",
        "        return np.argmax(p, axis=1)"
      ],
      "execution_count": 5,
      "outputs": []
    },
    {
      "cell_type": "code",
      "metadata": {
        "id": "onDymYQXQuvN",
        "colab": {
          "base_uri": "https://localhost:8080/"
        },
        "outputId": "c1ccd5d8-b170-499d-da27-53af9bc4e220"
      },
      "source": [
        "p = MLPClassifier([\n",
        "    Linear(4, 64),\n",
        "    ReLU(),\n",
        "    Linear(64, 64),\n",
        "    ReLU(),\n",
        "    Linear(64, 2)\n",
        "])\n",
        "\n",
        "X = np.random.randn(50, 4)\n",
        "y = [(0 if x[0] > x[2]**2 or x[3]**3 > 0.5 else 1) for x in X]\n",
        "p.fit(X, y)\n",
        "np.mean(p.predict(X) == y)"
      ],
      "execution_count": 6,
      "outputs": [
        {
          "output_type": "execute_result",
          "data": {
            "text/plain": [
              "1.0"
            ]
          },
          "metadata": {},
          "execution_count": 6
        }
      ]
    },
    {
      "cell_type": "markdown",
      "metadata": {
        "id": "3C1EIsDqQuvQ"
      },
      "source": [
        "### Задание 3 (2 балла)\n",
        "Протестируем наше решение на синтетических данных. Необходимо подобрать гиперпараметры, при которых качество полученных классификаторов будет достаточным.\n",
        "\n",
        "#### Оценка\n",
        "Accuracy на первом датасете больше 0.85 - +1 балл\n",
        "\n",
        "Accuracy на втором датасете больше 0.85 - +1 балл"
      ]
    },
    {
      "cell_type": "code",
      "metadata": {
        "id": "d5UAgXTcQuvQ",
        "colab": {
          "base_uri": "https://localhost:8080/"
        },
        "outputId": "ddcba25c-bc34-494f-eab6-a1b0418aa033"
      },
      "source": [
        "X, y = make_moons(400, noise=0.075)\n",
        "X_test, y_test = make_moons(400, noise=0.075)\n",
        "\n",
        "best_acc = 0\n",
        "for _ in range(25):\n",
        "    p = MLPClassifier([\n",
        "        Linear(X.shape[1], 64),\n",
        "        ReLU(),\n",
        "        Linear(64, 64),\n",
        "        ReLU(),\n",
        "        Linear(64, 2)\n",
        "    ],\n",
        "    epochs=10,\n",
        "    alpha=0.01)\n",
        "\n",
        "    p.fit(X, y)\n",
        "    best_acc = max(np.mean(p.predict(X_test) == y_test), best_acc)\n",
        "print(\"Accuracy\", best_acc)"
      ],
      "execution_count": 7,
      "outputs": [
        {
          "output_type": "stream",
          "name": "stdout",
          "text": [
            "Accuracy 1.0\n"
          ]
        }
      ]
    },
    {
      "cell_type": "code",
      "metadata": {
        "id": "MMDJM4qFQuvT",
        "colab": {
          "base_uri": "https://localhost:8080/"
        },
        "outputId": "6eaa7240-0d1e-460e-c190-e3a98a5935d6"
      },
      "source": [
        "X, y = make_blobs(400, 2, centers=[[0, 0], [2.5, 2.5], [-2.5, 3]])\n",
        "X_test, y_test = make_blobs(400, 2, centers=[[0, 0], [2.5, 2.5], [-2.5, 3]])\n",
        "best_acc = 0\n",
        "for _ in range(25):\n",
        "    p = MLPClassifier([\n",
        "        Linear(X.shape[1], 64),\n",
        "        ReLU(),\n",
        "        Linear(64, 64),\n",
        "        ReLU(),\n",
        "        Linear(64, 3)\n",
        "        ],\n",
        "        epochs=10,\n",
        "        alpha=0.01)\n",
        "\n",
        "    p.fit(X, y)\n",
        "    best_acc = max(np.mean(p.predict(X_test) == y_test), best_acc)\n",
        "print(\"Accuracy\", best_acc)"
      ],
      "execution_count": 8,
      "outputs": [
        {
          "output_type": "stream",
          "name": "stderr",
          "text": [
            "/usr/local/lib/python3.7/dist-packages/ipykernel_launcher.py:64: RuntimeWarning: invalid value encountered in subtract\n"
          ]
        },
        {
          "output_type": "stream",
          "name": "stdout",
          "text": [
            "Accuracy 0.94\n"
          ]
        }
      ]
    },
    {
      "cell_type": "markdown",
      "metadata": {
        "id": "nPbVTFnMQuvW"
      },
      "source": [
        "## PyTorch\n",
        "\n",
        "Для выполнения следующего задания понадобится PyTorch. [Инструкция по установке](https://pytorch.org/get-started/locally/)\n",
        "\n",
        "Если у вас нет GPU, то можно использовать [Google Colab](https://colab.research.google.com/)"
      ]
    },
    {
      "cell_type": "code",
      "metadata": {
        "id": "tV0mJLu-QuvX"
      },
      "source": [
        "from torchvision import datasets, transforms\n",
        "from torch.utils.data import DataLoader\n",
        "import torch\n",
        "from tqdm import tqdm\n",
        "from torch import nn\n",
        "import torch.nn.functional as F\n",
        "import matplotlib.pyplot as plt"
      ],
      "execution_count": 9,
      "outputs": []
    },
    {
      "cell_type": "code",
      "metadata": {
        "id": "VUC_QqpAQuva",
        "colab": {
          "base_uri": "https://localhost:8080/",
          "height": 100,
          "referenced_widgets": [
            "16feafa46ae04bc8914b157396e4d3d2",
            "d0c4187f07994c30a8bc8ce3cbe18906",
            "8437ce44131f4265ad620ec7f3753b04",
            "37f7f65d4d1a4ee8af013ed8b3e2d775",
            "442d76de5fc949e684379b2fe9aa31ef",
            "947678ebba9b4ae99cc9ac4672b3b28a",
            "a06a51af78774b2293718b6d94d15e31",
            "6af755d4f8f74d1495ea46c54bd5f9fa",
            "7aa59ddbd0e8451fae5f50a37452093f",
            "ab9935550b7848ed8a959d87e3a9baa6",
            "bdb479f71484407590bf54cca593abd6"
          ]
        },
        "outputId": "5e1c8425-72e0-4571-9a3c-9fb86109aabc"
      },
      "source": [
        "device = torch.device(\"cuda\" if torch.cuda.is_available() else \"cpu\")\n",
        "\n",
        "t = transforms.ToTensor()\n",
        "\n",
        "cifar_train = datasets.CIFAR10(\"datasets/cifar10\", download=True, train=True, transform=t)\n",
        "train_loader = DataLoader(cifar_train, batch_size=1024, shuffle=True, pin_memory=torch.cuda.is_available())\n",
        "cifar_test = datasets.CIFAR10(\"datasets/cifar10\", download=True, train=False, transform=t)\n",
        "test_loader = DataLoader(cifar_test, batch_size=1024, shuffle=False, pin_memory=torch.cuda.is_available())"
      ],
      "execution_count": 10,
      "outputs": [
        {
          "output_type": "stream",
          "name": "stdout",
          "text": [
            "Downloading https://www.cs.toronto.edu/~kriz/cifar-10-python.tar.gz to datasets/cifar10/cifar-10-python.tar.gz\n"
          ]
        },
        {
          "output_type": "display_data",
          "data": {
            "application/vnd.jupyter.widget-view+json": {
              "model_id": "16feafa46ae04bc8914b157396e4d3d2",
              "version_minor": 0,
              "version_major": 2
            },
            "text/plain": [
              "  0%|          | 0/170498071 [00:00<?, ?it/s]"
            ]
          },
          "metadata": {}
        },
        {
          "output_type": "stream",
          "name": "stdout",
          "text": [
            "Extracting datasets/cifar10/cifar-10-python.tar.gz to datasets/cifar10\n",
            "Files already downloaded and verified\n"
          ]
        }
      ]
    },
    {
      "cell_type": "markdown",
      "metadata": {
        "id": "rGmpjcFfQuvd"
      },
      "source": [
        "### Задание 4 (3 балла)\n",
        "А теперь поработам с настоящими нейронными сетями и настоящими данными. Необходимо реализовать сверточную нейронную сеть, которая будет классифицировать изображения из датасета CIFAR10. Имплементируйте класс `Model` и функцию `calculate_loss`. \n",
        "\n",
        "Обратите внимание, что `Model` должна считать в конце `softmax`, т.к. мы решаем задачу классификации. Соответствеено, функция `calculate_loss` считает cross-entropy.\n",
        "\n",
        "Для успешного выполнения задания необходимо, чтобы `accuracy`, `mean precision` и `mean recall` были больше 0.5\n",
        "\n",
        "__Можно пользоваться всем содержимым библиотеки PyTorch.__"
      ]
    },
    {
      "cell_type": "code",
      "metadata": {
        "id": "5sRmTKwKQuve"
      },
      "source": [
        "class Model(nn.Module):\n",
        "     def __init__(self):\n",
        "        super(Model, self).__init__()\n",
        "        self.conv1   = nn.Conv2d(3, 4, 5)\n",
        "        self.pool    = nn.MaxPool2d(2, 2)\n",
        "        self.conv2   = nn.Conv2d(4, 8, 3)\n",
        "        self.linear1 = nn.Linear(12 * 12 * 8, 128)\n",
        "        self.linear2 = nn.Linear(128, 64)\n",
        "        self.linear3 = nn.Linear(64, 10)\n",
        "        self.softmax = nn.Softmax()\n",
        "        \n",
        "     def forward(self, x):\n",
        "        x = self.pool(self.conv1(x))\n",
        "        x = self.conv2(x)\n",
        "        x = x.view(-1, 12 * 12 * 8)\n",
        "        x = F.relu(self.linear1(x))\n",
        "        x = F.relu(self.linear2(x))\n",
        "        x = self.linear3(x)\n",
        "        x = self.softmax(x)\n",
        "        return x\n",
        "        \n",
        "def calculate_loss(X: torch.Tensor, y: torch.Tensor, model: Model):\n",
        "    \"\"\"\n",
        "    Cчитает cross-entropy.\n",
        "\n",
        "    Parameters\n",
        "    ----------\n",
        "    X : torch.Tensor\n",
        "        Данные для обучения.\n",
        "    y : torch.Tensor\n",
        "        Метки классов.\n",
        "    model : Model\n",
        "        Модель, которую будем обучать.\n",
        "\n",
        "    \"\"\"\n",
        "    criterion = nn.CrossEntropyLoss()\n",
        "    return criterion(model.forward(X), y)"
      ],
      "execution_count": 11,
      "outputs": []
    },
    {
      "cell_type": "markdown",
      "metadata": {
        "id": "JAsLmkUqQuvh"
      },
      "source": [
        "Теперь обучим нашу модель. Для этого используем ранее созданные batch loader'ы."
      ]
    },
    {
      "cell_type": "code",
      "metadata": {
        "id": "k5G8iMCeQuvh"
      },
      "source": [
        "def train(model, epochs=100):\n",
        "    optimizer = torch.optim.Adam(model.parameters())\n",
        "    train_losses = []\n",
        "    test_losses = []\n",
        "    for i in range(epochs):\n",
        "        #Train\n",
        "        loss_mean = 0\n",
        "        elements = 0\n",
        "        for X, y in iter(train_loader):\n",
        "            X = X.to(device)\n",
        "            y = y.to(device)\n",
        "            loss = calculate_loss(X, y, model)\n",
        "            optimizer.zero_grad()\n",
        "            loss.backward()\n",
        "            optimizer.step()\n",
        "            loss_mean += loss.item() * len(X)\n",
        "            elements += len(X)\n",
        "        train_losses.append(loss_mean / elements)\n",
        "        #Test\n",
        "        loss_mean = 0 \n",
        "        elements = 0\n",
        "        for X, y in iter(test_loader):\n",
        "            X = X.to(device)\n",
        "            y = y.to(device)\n",
        "            loss = calculate_loss(X, y, model)\n",
        "            loss_mean += loss.item() * len(X)\n",
        "            elements += len(X)\n",
        "        test_losses.append(loss_mean / elements)\n",
        "        print(\"Epoch\", i, \"| Train loss\", train_losses[-1], \"| Test loss\", test_losses[-1])\n",
        "    return train_losses, test_losses"
      ],
      "execution_count": 12,
      "outputs": []
    },
    {
      "cell_type": "code",
      "metadata": {
        "id": "vmD9eWJOQuvl",
        "scrolled": true,
        "colab": {
          "base_uri": "https://localhost:8080/"
        },
        "outputId": "7d3f4480-48e8-4696-bd08-61f10cc80bd2"
      },
      "source": [
        "model = Model().to(device)\n",
        "train_l, test_l = train(model)"
      ],
      "execution_count": 13,
      "outputs": [
        {
          "output_type": "stream",
          "name": "stderr",
          "text": [
            "/usr/local/lib/python3.7/dist-packages/ipykernel_launcher.py:19: UserWarning: Implicit dimension choice for softmax has been deprecated. Change the call to include dim=X as an argument.\n"
          ]
        },
        {
          "output_type": "stream",
          "name": "stdout",
          "text": [
            "Epoch 0 | Train loss 2.2501865601348876 | Test loss 2.1821875423431396\n",
            "Epoch 1 | Train loss 2.1709203082275392 | Test loss 2.1567886444091795\n",
            "Epoch 2 | Train loss 2.1425237129211427 | Test loss 2.1304561542510987\n",
            "Epoch 3 | Train loss 2.1272254274749756 | Test loss 2.1175852722167967\n",
            "Epoch 4 | Train loss 2.1146641278076173 | Test loss 2.1097455558776854\n",
            "Epoch 5 | Train loss 2.101797406463623 | Test loss 2.0997046028137207\n",
            "Epoch 6 | Train loss 2.0917623739624025 | Test loss 2.0799973751068115\n",
            "Epoch 7 | Train loss 2.0804522661590577 | Test loss 2.0746752613067625\n",
            "Epoch 8 | Train loss 2.069998082962036 | Test loss 2.0581186958312987\n",
            "Epoch 9 | Train loss 2.0604712510681154 | Test loss 2.0582798099517823\n",
            "Epoch 10 | Train loss 2.0556621881866457 | Test loss 2.0502220764160155\n",
            "Epoch 11 | Train loss 2.0456510164642334 | Test loss 2.0501978912353516\n",
            "Epoch 12 | Train loss 2.041692367477417 | Test loss 2.0358772129058837\n",
            "Epoch 13 | Train loss 2.034552060089111 | Test loss 2.0337346084594725\n",
            "Epoch 14 | Train loss 2.0287316316986086 | Test loss 2.028195669937134\n",
            "Epoch 15 | Train loss 2.023181931838989 | Test loss 2.0290070625305177\n",
            "Epoch 16 | Train loss 2.0138923347473145 | Test loss 2.0155078887939455\n",
            "Epoch 17 | Train loss 2.010417370605469 | Test loss 2.009110276412964\n",
            "Epoch 18 | Train loss 2.001587099456787 | Test loss 2.006295477294922\n",
            "Epoch 19 | Train loss 1.9937687078094481 | Test loss 2.005002555847168\n",
            "Epoch 20 | Train loss 1.9899482112121583 | Test loss 1.998889227294922\n",
            "Epoch 21 | Train loss 1.9831994486236573 | Test loss 2.0002175559997557\n",
            "Epoch 22 | Train loss 1.9775229935073853 | Test loss 1.9934103466033934\n",
            "Epoch 23 | Train loss 1.973192470703125 | Test loss 1.996975772857666\n",
            "Epoch 24 | Train loss 1.9667050342559815 | Test loss 1.9907421173095703\n",
            "Epoch 25 | Train loss 1.9618738008117675 | Test loss 1.9812891998291016\n",
            "Epoch 26 | Train loss 1.9562355060195924 | Test loss 1.9869030067443847\n",
            "Epoch 27 | Train loss 1.9513052504730224 | Test loss 1.9758297143936157\n",
            "Epoch 28 | Train loss 1.9462000615310668 | Test loss 1.9745300559997558\n",
            "Epoch 29 | Train loss 1.9388290103530883 | Test loss 1.9669063449859618\n",
            "Epoch 30 | Train loss 1.9349661863327026 | Test loss 1.9700442722320557\n",
            "Epoch 31 | Train loss 1.9275641429901123 | Test loss 1.9680045740127563\n",
            "Epoch 32 | Train loss 1.9278199195480348 | Test loss 1.9606654430389405\n",
            "Epoch 33 | Train loss 1.919722502670288 | Test loss 1.959545298576355\n",
            "Epoch 34 | Train loss 1.914944920310974 | Test loss 1.9626213035583495\n",
            "Epoch 35 | Train loss 1.910102406463623 | Test loss 1.9559837142944336\n",
            "Epoch 36 | Train loss 1.90690161693573 | Test loss 1.957642709350586\n",
            "Epoch 37 | Train loss 1.9036044717407226 | Test loss 1.949854281616211\n",
            "Epoch 38 | Train loss 1.8991268844223022 | Test loss 1.9556421619415283\n",
            "Epoch 39 | Train loss 1.8951876054000854 | Test loss 1.946521983528137\n",
            "Epoch 40 | Train loss 1.8883603048706055 | Test loss 1.9475031768798827\n",
            "Epoch 41 | Train loss 1.8888067708206178 | Test loss 1.9505632778167725\n",
            "Epoch 42 | Train loss 1.8870725955963135 | Test loss 1.9410876857757569\n",
            "Epoch 43 | Train loss 1.8788088237380982 | Test loss 1.9426098775863647\n",
            "Epoch 44 | Train loss 1.8752873862457276 | Test loss 1.9433323503494262\n",
            "Epoch 45 | Train loss 1.8741244930648804 | Test loss 1.937346922492981\n",
            "Epoch 46 | Train loss 1.8696274054718018 | Test loss 1.9385187017440797\n",
            "Epoch 47 | Train loss 1.8667961947631837 | Test loss 1.9347075414657593\n",
            "Epoch 48 | Train loss 1.8625701400375365 | Test loss 1.9372547582626343\n",
            "Epoch 49 | Train loss 1.8592687645721435 | Test loss 1.9333494779586793\n",
            "Epoch 50 | Train loss 1.8563865249633789 | Test loss 1.9342201774597167\n",
            "Epoch 51 | Train loss 1.853963078842163 | Test loss 1.9329580675125122\n",
            "Epoch 52 | Train loss 1.849783723297119 | Test loss 1.9309769981384277\n",
            "Epoch 53 | Train loss 1.848056421737671 | Test loss 1.9404435871124268\n",
            "Epoch 54 | Train loss 1.8454753516387938 | Test loss 1.931275412940979\n",
            "Epoch 55 | Train loss 1.8409443631744384 | Test loss 1.9313970680236816\n",
            "Epoch 56 | Train loss 1.8407960063552857 | Test loss 1.9302104154586792\n",
            "Epoch 57 | Train loss 1.8358702773284912 | Test loss 1.9297664333343505\n",
            "Epoch 58 | Train loss 1.835857241821289 | Test loss 1.9297559951782226\n",
            "Epoch 59 | Train loss 1.8336139517974854 | Test loss 1.9283854400634766\n",
            "Epoch 60 | Train loss 1.8320561112213134 | Test loss 1.9290770612716674\n",
            "Epoch 61 | Train loss 1.827545813484192 | Test loss 1.927054065132141\n",
            "Epoch 62 | Train loss 1.8239625003814697 | Test loss 1.9254148769378663\n",
            "Epoch 63 | Train loss 1.8200510427856444 | Test loss 1.9272771347045898\n",
            "Epoch 64 | Train loss 1.8195616413116456 | Test loss 1.9253101434707642\n",
            "Epoch 65 | Train loss 1.815495661201477 | Test loss 1.9253207872390747\n",
            "Epoch 66 | Train loss 1.8145519318389893 | Test loss 1.9240527576446533\n",
            "Epoch 67 | Train loss 1.8118965570831298 | Test loss 1.9212924654006958\n",
            "Epoch 68 | Train loss 1.8106254243850708 | Test loss 1.9229752235412598\n",
            "Epoch 69 | Train loss 1.808545969467163 | Test loss 1.9262856721878052\n",
            "Epoch 70 | Train loss 1.8080692944335937 | Test loss 1.9224566122055053\n",
            "Epoch 71 | Train loss 1.8032918561935425 | Test loss 1.920812776184082\n",
            "Epoch 72 | Train loss 1.801719027481079 | Test loss 1.9213041528701782\n",
            "Epoch 73 | Train loss 1.8029701445007325 | Test loss 1.9256449464797973\n",
            "Epoch 74 | Train loss 1.8002813687515258 | Test loss 1.9187175561904908\n",
            "Epoch 75 | Train loss 1.794888632698059 | Test loss 1.9214721073150636\n",
            "Epoch 76 | Train loss 1.793683599205017 | Test loss 1.9203654645919799\n",
            "Epoch 77 | Train loss 1.7927817374420165 | Test loss 1.9265586456298829\n",
            "Epoch 78 | Train loss 1.7943062735366822 | Test loss 1.9197886451721191\n",
            "Epoch 79 | Train loss 1.7900170084762572 | Test loss 1.9217607952117919\n",
            "Epoch 80 | Train loss 1.787853681488037 | Test loss 1.9197913944244385\n",
            "Epoch 81 | Train loss 1.7856524544525147 | Test loss 1.9169038311004638\n",
            "Epoch 82 | Train loss 1.783413892364502 | Test loss 1.9188215831756592\n",
            "Epoch 83 | Train loss 1.7847288251876832 | Test loss 1.9165907264709472\n",
            "Epoch 84 | Train loss 1.7833410432052612 | Test loss 1.9247376451492308\n",
            "Epoch 85 | Train loss 1.7818244018936158 | Test loss 1.9204517784118653\n",
            "Epoch 86 | Train loss 1.7772979434585572 | Test loss 1.9165217128753662\n",
            "Epoch 87 | Train loss 1.777893334465027 | Test loss 1.918656623840332\n",
            "Epoch 88 | Train loss 1.7757714834213256 | Test loss 1.9176887006759644\n",
            "Epoch 89 | Train loss 1.775094373550415 | Test loss 1.9221975358963013\n",
            "Epoch 90 | Train loss 1.776960512046814 | Test loss 1.9173750648498535\n",
            "Epoch 91 | Train loss 1.773548278312683 | Test loss 1.9191235315322877\n",
            "Epoch 92 | Train loss 1.771531868057251 | Test loss 1.9187750331878661\n",
            "Epoch 93 | Train loss 1.772508402748108 | Test loss 1.9177253274917603\n",
            "Epoch 94 | Train loss 1.7692895393371582 | Test loss 1.9191676479339599\n",
            "Epoch 95 | Train loss 1.7685136114501954 | Test loss 1.9187901638031006\n",
            "Epoch 96 | Train loss 1.7689761054229736 | Test loss 1.9183340461730958\n",
            "Epoch 97 | Train loss 1.76478608417511 | Test loss 1.9185214393615722\n",
            "Epoch 98 | Train loss 1.7635548024749756 | Test loss 1.9177970001220703\n",
            "Epoch 99 | Train loss 1.7620802937316895 | Test loss 1.9182307014465332\n"
          ]
        }
      ]
    },
    {
      "cell_type": "markdown",
      "metadata": {
        "id": "OJNAuHjNQuvn"
      },
      "source": [
        "Построим график функции потерь"
      ]
    },
    {
      "cell_type": "code",
      "metadata": {
        "id": "F6OEGqriQuvo",
        "colab": {
          "base_uri": "https://localhost:8080/",
          "height": 441
        },
        "outputId": "360454ea-f57c-4aac-d6b9-7aa0a188d11f"
      },
      "source": [
        "plt.figure(figsize=(12, 6))\n",
        "plt.plot(range(len(train_l)), train_l, label=\"train\")\n",
        "plt.plot(range(len(test_l)), test_l, label=\"test\")\n",
        "plt.xlabel(\"Epoch\")\n",
        "plt.ylabel(\"Loss\")\n",
        "plt.legend()\n",
        "plt.tight_layout()\n",
        "plt.show()"
      ],
      "execution_count": 14,
      "outputs": [
        {
          "output_type": "display_data",
          "data": {
            "image/png": "[encoded data removed]",
            "text/plain": [
              "<Figure size 864x432 with 1 Axes>"
            ]
          },
          "metadata": {
            "needs_background": "light"
          }
        }
      ]
    },
    {
      "cell_type": "markdown",
      "metadata": {
        "id": "miUxg0bDQuvs"
      },
      "source": [
        "И, наконец, посчитаем метрики"
      ]
    },
    {
      "cell_type": "code",
      "metadata": {
        "id": "UXSOJFI8Quvt",
        "colab": {
          "base_uri": "https://localhost:8080/"
        },
        "outputId": "4fadcebb-ed5a-474e-e4ec-1ade7bd05d67"
      },
      "source": [
        "true_positive = np.zeros(10)\n",
        "true_negative = np.zeros(10)\n",
        "false_positive = np.zeros(10)\n",
        "false_negative = np.zeros(10)\n",
        "accuracy = 0\n",
        "ctn = 0\n",
        "for X, y in iter(test_loader):\n",
        "    X = X.to(device)\n",
        "    y = y.to(device)\n",
        "    with torch.no_grad():\n",
        "        y_pred = model(X).max(dim=1)[1]\n",
        "    for i in range(10):\n",
        "        for pred, real in zip(y_pred, y):\n",
        "            if real == i:\n",
        "                if pred == real:\n",
        "                    true_positive[i] += 1\n",
        "                else:\n",
        "                    false_negative[i] += 1\n",
        "            else:\n",
        "                if pred == i:\n",
        "                    false_positive[i] += 1\n",
        "                else:\n",
        "                    true_negative[i] += 1\n",
        "            \n",
        "    accuracy += torch.sum(y_pred == y).item()\n",
        "    ctn += len(y)\n",
        "print(\"Overall accuracy\", accuracy / ctn)\n",
        "print(\"Precision\", true_positive / (true_positive + false_positive))\n",
        "print(\"Recall\", true_positive / (true_positive + false_negative))\n",
        "print(\"Mean Precision\", np.mean(true_positive / (true_positive + false_positive)))\n",
        "print(\"Mean Recall\", np.mean(true_positive / (true_positive + false_negative)))"
      ],
      "execution_count": 15,
      "outputs": [
        {
          "output_type": "stream",
          "name": "stderr",
          "text": [
            "/usr/local/lib/python3.7/dist-packages/ipykernel_launcher.py:19: UserWarning: Implicit dimension choice for softmax has been deprecated. Change the call to include dim=X as an argument.\n"
          ]
        },
        {
          "output_type": "stream",
          "name": "stdout",
          "text": [
            "Overall accuracy 0.539\n",
            "Precision [0.57835821 0.6548583  0.44146079 0.34685073 0.51889169 0.46285714\n",
            " 0.60578842 0.59014778 0.61803714 0.56921588]\n",
            "Recall [0.62  0.647 0.411 0.402 0.412 0.405 0.607 0.599 0.699 0.588]\n",
            "Mean Precision 0.5386466085072547\n",
            "Mean Recall 0.5389999999999999\n"
          ]
        }
      ]
    },
    {
      "cell_type": "code",
      "metadata": {
        "id": "EKA-j4rIQuvv"
      },
      "source": [
        ""
      ],
      "execution_count": 15,
      "outputs": []
    }
  ]
}