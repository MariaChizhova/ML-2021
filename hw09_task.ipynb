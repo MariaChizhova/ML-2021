{
 "cells": [
  {
   "cell_type": "markdown",
   "metadata": {
    "id": "owQHb50qJY1m"
   },
   "source": [
    "# Случайные леса\n",
    "__Суммарное количество баллов: 10__\n",
    "\n",
    "__Решение отправлять на `ml.course.practice@gmail.com`__\n",
    "\n",
    "__Тема письма: `[HSE][ML][HW09] <ФИ>`, где вместо `<ФИ>` указаны фамилия и имя__\n",
    "\n",
    "В этом задании вам предстоит реализовать ансамбль деревьев решений, известный как случайный лес, применить его к публичным данным пользователей социальной сети Вконтакте, и сравнить его эффективность с ансамблем, предоставляемым библиотекой CatBoost.\n",
    "\n",
    "В результате мы сможем определить, какие подписки пользователей больше всего влияют на определение возраста и пола человека. "
   ]
  },
  {
   "cell_type": "code",
   "execution_count": 1,
   "metadata": {
    "id": "cBlwWMWbJY1q"
   },
   "outputs": [],
   "source": [
    "from sklearn.model_selection import train_test_split\n",
    "import numpy as np\n",
    "import pandas\n",
    "import random\n",
    "import matplotlib.pyplot as plt\n",
    "import matplotlib\n",
    "import copy\n",
    "from catboost import CatBoostClassifier\n",
    "from sklearn.preprocessing import LabelEncoder\n",
    "from typing import Callable, Union, NoReturn, Optional, Dict, Any, List"
   ]
  },
  {
   "cell_type": "code",
   "execution_count": 2,
   "metadata": {
    "id": "RRcsIXHXJY1r"
   },
   "outputs": [],
   "source": [
    "def gini(x):\n",
    "    _, counts = np.unique(x, return_counts=True)\n",
    "    proba = counts / len(x)\n",
    "    return np.sum(proba * (1 - proba))\n",
    "    \n",
    "def entropy(x):\n",
    "    _, counts = np.unique(x, return_counts=True)\n",
    "    proba = counts / len(x)\n",
    "    return -np.sum(proba * np.log2(proba))\n",
    "\n",
    "def gain(left_y, right_y, criterion):\n",
    "    y = np.concatenate((left_y, right_y))\n",
    "    return criterion(y) - (criterion(left_y) * len(left_y) + criterion(right_y) * len(right_y)) / len(y)"
   ]
  },
  {
   "cell_type": "markdown",
   "metadata": {
    "id": "V1mmD9DIJY1r"
   },
   "source": [
    "### Задание 1 (2 балла)\n",
    "Random Forest состоит из деревьев решений. Каждое такое дерево строится на одной из выборок, полученных при помощи bagging. Элементы, которые не вошли в новую обучающую выборку, образуют out-of-bag выборку. Кроме того, в каждом узле дерева мы случайным образом выбираем набор из `max_features` и ищем признак для предиката разбиения только в этом наборе.\n",
    "\n",
    "Сегодня мы будем работать только с бинарными признаками, поэтому нет необходимости выбирать значение признака для разбиения.\n",
    "\n",
    "#### Методы\n",
    "`predict(X)` - возвращает предсказанные метки для элементов выборки `X`\n",
    "\n",
    "#### Параметры конструктора\n",
    "`X, y` - обучающая выборка и соответствующие ей метки классов. Из нее нужно получить выборку для построения дерева при помощи bagging. Out-of-bag выборку нужно запомнить, она понадобится потом.\n",
    "\n",
    "`criterion=\"gini\"` - задает критерий, который будет использоваться при построении дерева. Возможные значения: `\"gini\"`, `\"entropy\"`.\n",
    "\n",
    "`max_depth=None` - ограничение глубины дерева. Если `None` - глубина не ограничена\n",
    "\n",
    "`min_samples_leaf=1` - минимальное количество элементов в каждом листе дерева.\n",
    "\n",
    "`max_features=\"auto\"` - количество признаков, которые могут использоваться в узле. Если `\"auto\"` - равно `sqrt(X.shape[1])`"
   ]
  },
  {
   "cell_type": "code",
   "execution_count": 3,
   "metadata": {},
   "outputs": [],
   "source": [
    "class DecisionTreeLeaf:\n",
    "    def __init__(self, y):\n",
    "        values, counts = np.unique(y, return_counts=True)\n",
    "        counts = counts / y.shape[0]\n",
    "        self.probabilities = dict(zip(values, counts))\n",
    "\n",
    "class DecisionTreeNode:\n",
    "    def __init__(self, split_dim: int, \n",
    "                 left: Union['DecisionTreeNode', DecisionTreeLeaf], \n",
    "                 right: Union['DecisionTreeNode', DecisionTreeLeaf]):\n",
    "        self.split_dim = split_dim\n",
    "        self.left = left\n",
    "        self.right = right\n",
    "        \n",
    "class DecisionTree:\n",
    "    def __init__(self, X, y, criterion : str = \"gini\", \n",
    "                 max_depth : Optional[int] = None, \n",
    "                 min_samples_leaf: int = 1,\n",
    "                 max_features=\"auto\"):\n",
    "        n, m = X.shape\n",
    "        self.critetion = gini if criterion == \"gini\" else entropy\n",
    "        self.max_depth = max_depth if max_depth is not None else np.inf\n",
    "        self.min_samples_leaf = min_samples_leaf\n",
    "        self.max_features = int(np.ceil(np.sqrt(m))) if max_features == 'auto' else max_features\n",
    "        inds = np.random.choice(n, n, replace=True)\n",
    "        self.oob = np.setdiff1d(np.arange(n), inds)\n",
    "        self.root = self.build_tree(X[inds], y[inds], 0)\n",
    "        \n",
    "        \n",
    "    def build_tree(self, X: np.ndarray, y: np.ndarray, depth):\n",
    "        if depth >= self.max_depth:\n",
    "            return DecisionTreeLeaf(y)\n",
    "        \n",
    "        split_dim, split_gain = -1, -np.inf\n",
    "        for i, col in enumerate(X.T):\n",
    "            values = np.unique(col)\n",
    "            for value in values:\n",
    "                mask = col == 1\n",
    "                left = y[mask]\n",
    "                right = y[~mask]\n",
    "                if left.shape[0] >= self.min_samples_leaf and right.shape[0] >= self.min_samples_leaf:\n",
    "                    g = gain(left, right, self.critetion)\n",
    "                    if g > split_gain:\n",
    "                        split_dim, split_gain = i, g\n",
    "        \n",
    "        if split_dim == -1:\n",
    "            return DecisionTreeLeaf(y)\n",
    "        \n",
    "        mask = X[:, split_dim] == 1\n",
    "        left = self.build_tree(X[mask], y[mask], depth + 1)\n",
    "        right = self.build_tree(X[~mask], y[~mask], depth + 1)\n",
    "        return DecisionTreeNode(split_dim, left, right)\n",
    "        \n",
    "    def get_probabilities(self, x, node):\n",
    "        if isinstance(node, DecisionTreeLeaf):\n",
    "            return node.probabilities\n",
    "        if x[node.split_dim] == 1:\n",
    "            return self.get_probabilities(x, node.left)\n",
    "        else:\n",
    "            return self.get_probabilities(x, node.right)\n",
    "    \n",
    "    def predict_proba(self, X: np.ndarray) ->  List[Dict[Any, float]]:\n",
    "        return [self.get_probabilities(x, self.root) for x in X]\n",
    "    \n",
    "    def predict(self, X : np.ndarray) -> list:\n",
    "        proba = self.predict_proba(X)\n",
    "        return [max(p.keys(), key=lambda k: p[k]) for p in proba]"
   ]
  },
  {
   "cell_type": "markdown",
   "metadata": {},
   "source": [
    "### Задание 2 (2 балла)\n",
    "Теперь реализуем сам Random Forest. Идея очень простая: строим `n` деревьев, а затем берем модальное предсказание.\n",
    "\n",
    "#### Параметры конструктора\n",
    "`n_estimators` - количество используемых для предсказания деревьев.\n",
    "\n",
    "Остальное - параметры деревьев.\n",
    "\n",
    "#### Методы\n",
    "`fit(X, y)` - строит `n_estimators` деревьев по выборке `X`.\n",
    "\n",
    "`predict(X)` - для каждого элемента выборки `X` возвращает самый частый класс, который предсказывают для него деревья."
   ]
  },
  {
   "cell_type": "code",
   "execution_count": 4,
   "metadata": {},
   "outputs": [],
   "source": [
    "from collections import Counter"
   ]
  },
  {
   "cell_type": "code",
   "execution_count": 5,
   "metadata": {
    "id": "kLiXR7kxJY1t"
   },
   "outputs": [],
   "source": [
    "class RandomForestClassifier:\n",
    "    def __init__(self, criterion=\"gini\", max_depth=None, min_samples_leaf=1, max_features=\"auto\", n_estimators=10):\n",
    "        self.criterion = criterion\n",
    "        self.max_depth = max_depth\n",
    "        self.min_samples_leaf = min_samples_leaf\n",
    "        self.max_features = max_features\n",
    "        self.n_estimators = n_estimators\n",
    "    \n",
    "    def fit(self, X, y):\n",
    "        self.X, self.y = X, y\n",
    "        self.trees = [DecisionTree(X, y,\n",
    "                                   self.criterion,\n",
    "                                   self.max_depth,\n",
    "                                   self.min_samples_leaf,\n",
    "                                   self.max_features) for _ in range(self.n_estimators)]\n",
    "    def predict(self, X):\n",
    "        pred = np.array([tree.predict(X) for tree in self.trees]).T\n",
    "        return np.apply_along_axis(lambda r: Counter(r).most_common(1)[0][0], 1, pred)"
   ]
  },
  {
   "cell_type": "markdown",
   "metadata": {
    "id": "3nN5QZ3bJY1u"
   },
   "source": [
    "### Задание 3 (2 балла)\n",
    "Часто хочется понимать, насколько большую роль играет тот или иной признак для предсказания класса объекта. Есть различные способы посчитать его важность. Один из простых способов сделать это для Random Forest - посчитать out-of-bag ошибку предсказания `err_oob`, а затем перемешать значения признака `j` и посчитать ее (`err_oob_j`) еще раз. Оценкой важности признака `j` для одного дерева будет разность `err_oob_j - err_oob`, важность для всего леса считается как среднее значение важности по деревьям.\n",
    "\n",
    "Реализуйте функцию `feature_importance`, которая принимает на вход Random Forest и возвращает массив, в котором содержится важность для каждого признака."
   ]
  },
  {
   "cell_type": "code",
   "execution_count": 6,
   "metadata": {
    "id": "Fr1vG6JLJY1v"
   },
   "outputs": [],
   "source": [
    "def feature_importance(rfc):\n",
    "    X, y = rfc.X, rfc.y\n",
    "    n, m = X.shape\n",
    "    importance = np.zeros((rfc.n_estimators, m))\n",
    "    for i, t in enumerate(rfc.trees):\n",
    "        X_oob, y_oob = X[t.oob], y[t.oob]\n",
    "        err_oob = np.mean(t.predict(X_oob) != y_oob)\n",
    "        for j in range(m):\n",
    "            X_shuffled = X_oob.copy()\n",
    "            np.random.shuffle(X_shuffled[:, j])\n",
    "            err_oob_j = np.mean(t.predict(X_shuffled) != y_oob)\n",
    "            importance[i, j] = err_oob_j - err_oob\n",
    "    return np.mean(importance, axis=0)\n",
    "\n",
    "\n",
    "def most_important_features(importance, names, k=20):\n",
    "    # Выводит названия k самых важных признаков\n",
    "    idicies = np.argsort(importance)[::-1][:k]\n",
    "    return np.array(names)[idicies]"
   ]
  },
  {
   "cell_type": "markdown",
   "metadata": {
    "id": "cATCqIVkJY1v"
   },
   "source": [
    "Наконец, пришло время протестировать наше дерево на простом синтетическом наборе данных. В результате точность должна быть примерно равна `1.0`, наибольшее значение важности должно быть у признака с индексом `4`, признаки с индексами `2` и `3`  должны быть одинаково важны, а остальные признаки - не важны совсем."
   ]
  },
  {
   "cell_type": "code",
   "execution_count": 7,
   "metadata": {
    "id": "VEL4eiHmJY1w"
   },
   "outputs": [
    {
     "name": "stdout",
     "output_type": "stream",
     "text": [
      "Accuracy: 1.0\n",
      "Importance: [0.         0.         0.19486684 0.19329859 0.44416171 0.        ]\n"
     ]
    }
   ],
   "source": [
    "def synthetic_dataset(size):\n",
    "    X = [(np.random.randint(0, 2), np.random.randint(0, 2), i % 6 == 3, \n",
    "          i % 6 == 0, i % 3 == 2, np.random.randint(0, 2)) for i in range(size)]\n",
    "    y = [i % 3 for i in range(size)]\n",
    "    return np.array(X), np.array(y)\n",
    "\n",
    "X, y = synthetic_dataset(1000)\n",
    "rfc = RandomForestClassifier(n_estimators=100)\n",
    "rfc.fit(X, y)\n",
    "print(\"Accuracy:\", np.mean(rfc.predict(X) == y))\n",
    "print(\"Importance:\", feature_importance(rfc))"
   ]
  },
  {
   "cell_type": "markdown",
   "metadata": {
    "id": "KHCKQ4hMJY1w"
   },
   "source": [
    "### Задание 4 (1 балл)\n",
    "Теперь поработаем с реальными данными.\n",
    "\n",
    "Выборка состоит из публичных анонимизированных данных пользователей социальной сети Вконтакте. Первые два столбца отражают возрастную группу (`zoomer`, `doomer` и `boomer`) и пол (`female`, `male`). Все остальные столбцы являются бинарными признаками, каждый из них определяет, подписан ли пользователь на определенную группу/публичную страницу или нет.\\\n",
    "\\\n",
    "Необходимо обучить два классификатора, один из которых определяет возрастную группу, а второй - пол.\\\n",
    "\\\n",
    "Эксперименты с множеством используемых признаков и подбор гиперпараметров приветствуются. Лес должен строиться за какое-то разумное время."
   ]
  },
  {
   "cell_type": "code",
   "execution_count": 8,
   "metadata": {
    "id": "Mga_WYifJY1w"
   },
   "outputs": [],
   "source": [
    "def read_dataset(path):\n",
    "    dataframe = pandas.read_csv(path, header=0)\n",
    "    dataset = dataframe.values.tolist()\n",
    "    random.shuffle(dataset)\n",
    "    y_age = [row[0] for row in dataset]\n",
    "    y_sex = [row[1] for row in dataset]\n",
    "    X = [row[2:] for row in dataset]\n",
    "    \n",
    "    return np.array(X), np.array(y_age), np.array(y_sex), list(dataframe.columns)[2:]"
   ]
  },
  {
   "cell_type": "code",
   "execution_count": 9,
   "metadata": {
    "id": "Qkz8Av6QJY1x"
   },
   "outputs": [],
   "source": [
    "X, y_age, y_sex, features = read_dataset(\"vk.csv\")\n",
    "X_train, X_test, y_age_train, y_age_test, y_sex_train, y_sex_test = train_test_split(X, y_age, y_sex, train_size=0.9)"
   ]
  },
  {
   "cell_type": "markdown",
   "metadata": {
    "id": "tjUqJL0fJY1x"
   },
   "source": [
    "#### Возраст"
   ]
  },
  {
   "cell_type": "code",
   "execution_count": 10,
   "metadata": {
    "id": "wg42KSCoJY1x"
   },
   "outputs": [
    {
     "name": "stdout",
     "output_type": "stream",
     "text": [
      "Accuracy: 0.7049180327868853\n",
      "Most important features:\n",
      "1. ovsyanochan\n",
      "2. 4ch\n",
      "3. styd.pozor\n",
      "4. mudakoff\n",
      "5. rhymes\n",
      "6. xfilm\n",
      "7. tumblr_vacuum\n",
      "8. iwantyou\n",
      "9. rapnewrap\n",
      "10. pravdashowtop\n",
      "11. reflexia_our_feelings\n",
      "12. bot_maxim\n",
      "13. pixel_stickers\n",
      "14. ne.poverish\n",
      "15. dayvinchik\n",
      "16. bestad\n",
      "17. bog_memes\n",
      "18. dzenpub\n",
      "19. ne1party\n",
      "20. fuck_humor\n"
     ]
    }
   ],
   "source": [
    "rfc = RandomForestClassifier(n_estimators=10)\n",
    "rfc.fit(X_train, y_age_train)\n",
    "print(\"Accuracy:\", np.mean(rfc.predict(X_test) == y_age_test))\n",
    "print(\"Most important features:\")\n",
    "for i, name in enumerate(most_important_features(feature_importance(rfc), features, 20)):\n",
    "    print(str(i+1) + \".\", name)"
   ]
  },
  {
   "cell_type": "markdown",
   "metadata": {
    "id": "1sP0pulKJY1x"
   },
   "source": [
    "#### Пол"
   ]
  },
  {
   "cell_type": "code",
   "execution_count": 11,
   "metadata": {
    "id": "EUou10q0JY1x"
   },
   "outputs": [
    {
     "name": "stdout",
     "output_type": "stream",
     "text": [
      "Accuracy: 0.8461538461538461\n",
      "Most important features:\n",
      "1. 40kg\n",
      "2. mudakoff\n",
      "3. zerofat\n",
      "4. modnailru\n",
      "5. girlmeme\n",
      "6. thesmolny\n",
      "7. 9o_6o_9o\n",
      "8. be.beauty\n",
      "9. i_d_t\n",
      "10. reflexia_our_feelings\n",
      "11. woman.blog\n",
      "12. 4ch\n",
      "13. femalemem\n",
      "14. sh.cook\n",
      "15. cook_good\n",
      "16. rapnewrap\n",
      "17. be.women\n",
      "18. combovine\n",
      "19. bot_maxim\n",
      "20. psy.people\n"
     ]
    }
   ],
   "source": [
    "rfc = RandomForestClassifier(n_estimators=10)\n",
    "rfc.fit(X_train, y_sex_train)\n",
    "print(\"Accuracy:\", np.mean(rfc.predict(X_test) == y_sex_test))\n",
    "print(\"Most important features:\")\n",
    "for i, name in enumerate(most_important_features(feature_importance(rfc), features, 20)):\n",
    "    print(str(i+1) + \".\", name)"
   ]
  },
  {
   "cell_type": "markdown",
   "metadata": {
    "id": "g9Y4RHyhJY1y"
   },
   "source": [
    "### CatBoost\n",
    "В качестве аьтернативы попробуем CatBoost. \n",
    "\n",
    "Устаниовить его можно просто с помощью `pip install catboost`. Туториалы можно найти, например, [здесь](https://catboost.ai/docs/concepts/python-usages-examples.html#multiclassification) и [здесь](https://github.com/catboost/tutorials/blob/master/python_tutorial.ipynb). Главное - не забудьте использовать `loss_function='MultiClass'`.\\\n",
    "\\\n",
    "Сначала протестируйте CatBoost на синтетических данных. Выведите точность и важность признаков."
   ]
  },
  {
   "cell_type": "code",
   "execution_count": 12,
   "metadata": {
    "id": "jtMO1OPoJY1y"
   },
   "outputs": [
    {
     "name": "stdout",
     "output_type": "stream",
     "text": [
      "Accuracy: 1.0\n",
      "Importance: [1.24975988e-02 7.01002161e-03 2.78613400e+01 2.78602123e+01\n",
      " 4.42540747e+01 4.86545539e-03]\n"
     ]
    }
   ],
   "source": [
    "X, y = synthetic_dataset(1000)\n",
    "cbc = CatBoostClassifier(loss_function=\"MultiClass\", verbose=False)\n",
    "cbc.fit(X, y)\n",
    "y_pred = cbc.predict(X).flatten()\n",
    "print(\"Accuracy:\", np.mean(y_pred == y))\n",
    "print(\"Importance:\", cbc.feature_importances_)"
   ]
  },
  {
   "cell_type": "markdown",
   "metadata": {
    "id": "yS1cvFRHJY1y"
   },
   "source": [
    "### Задание 5 (3 балла)\n",
    "Попробуем применить один из используемых на практике алгоритмов. В этом нам поможет CatBoost. Также, как и реализованный ними RandomForest, применим его для определения пола и возраста пользователей сети Вконтакте, выведите названия наиболее важных признаков так же, как в задании 3.\\\n",
    "\\\n",
    "Эксперименты с множеством используемых признаков и подбор гиперпараметров приветствуются."
   ]
  },
  {
   "cell_type": "code",
   "execution_count": 13,
   "metadata": {
    "id": "miOvPcXbJY1y"
   },
   "outputs": [],
   "source": [
    "X, y_age, y_sex, features = read_dataset(\"vk.csv\")\n",
    "X_train, X_test, y_age_train, y_age_test, y_sex_train, y_sex_test = train_test_split(X, y_age, y_sex, train_size=0.9)\n",
    "X_train, X_eval, y_age_train, y_age_eval, y_sex_train, y_sex_eval = train_test_split(X_train, y_age_train, y_sex_train, train_size=0.8)"
   ]
  },
  {
   "cell_type": "markdown",
   "metadata": {
    "id": "NVVhaiIxJY1z"
   },
   "source": [
    "#### Возраст"
   ]
  },
  {
   "cell_type": "code",
   "execution_count": 14,
   "metadata": {
    "id": "umGP9_rpJY1z"
   },
   "outputs": [
    {
     "name": "stdout",
     "output_type": "stream",
     "text": [
      "Accuracy: 0.7629255989911727\n",
      "Most important features:\n",
      "1. mudakoff\n",
      "2. ovsyanochan\n",
      "3. 4ch\n",
      "4. styd.pozor\n",
      "5. rhymes\n",
      "6. dayvinchik\n",
      "7. leprum\n",
      "8. rapnewrap\n",
      "9. xfilm\n",
      "10. fuck_humor\n"
     ]
    }
   ],
   "source": [
    "cbc = CatBoostClassifier(loss_function='MultiClass', verbose=False)\n",
    "cbc.fit(X_train, y_age_train)\n",
    "print(\"Accuracy:\", np.mean(cbc.predict(X_test).flatten() == y_age_test))\n",
    "print(\"Most important features:\")\n",
    "for i, name in enumerate(most_important_features(cbc.feature_importances_, features, 10)):\n",
    "    print(str(i+1) + \".\", name)"
   ]
  },
  {
   "cell_type": "markdown",
   "metadata": {
    "id": "T7eavYC0JY1z"
   },
   "source": [
    "#### Пол"
   ]
  },
  {
   "cell_type": "code",
   "execution_count": 15,
   "metadata": {
    "id": "jvJNAmJxJY1z"
   },
   "outputs": [
    {
     "name": "stdout",
     "output_type": "stream",
     "text": [
      "Accuracy: 0.8764186633039092\n",
      "Most important features:\n",
      "1. 40kg\n",
      "2. mudakoff\n",
      "3. modnailru\n",
      "4. girlmeme\n",
      "5. femalemem\n",
      "6. 9o_6o_9o\n",
      "7. academyofman\n",
      "8. rapnewrap\n",
      "9. igm\n",
      "10. i_d_t\n"
     ]
    }
   ],
   "source": [
    "cbc = CatBoostClassifier(loss_function=\"MultiClass\", verbose=False)\n",
    "cbc.fit(X_train, y_sex_train)\n",
    "print(\"Accuracy:\", np.mean(cbc.predict(X_test).flatten() == y_sex_test))\n",
    "print(\"Most important features:\")\n",
    "for i, name in enumerate(most_important_features(cbc.feature_importances_, features, 10)):\n",
    "    print(str(i+1) + \".\", name)"
   ]
  }
 ],
 "metadata": {
  "colab": {
   "collapsed_sections": [],
   "name": "hw09_task.ipynb",
   "provenance": []
  },
  "kernelspec": {
   "display_name": "Python 3",
   "language": "python",
   "name": "python3"
  },
  "language_info": {
   "codemirror_mode": {
    "name": "ipython",
    "version": 3
   },
   "file_extension": ".py",
   "mimetype": "text/x-python",
   "name": "python",
   "nbconvert_exporter": "python",
   "pygments_lexer": "ipython3",
   "version": "3.8.10"
  }
 },
 "nbformat": 4,
 "nbformat_minor": 1
}
